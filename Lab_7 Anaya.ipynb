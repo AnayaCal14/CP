{
 "cells": [
  {
   "cell_type": "code",
   "execution_count": 1,
   "id": "e664a83f-fe48-4372-b954-2303fa2ac461",
   "metadata": {},
   "outputs": [],
   "source": [
    "import numpy as np\n",
    "import matplotlib.pyplot as plt"
   ]
  },
  {
   "cell_type": "code",
   "execution_count": 37,
   "id": "c38ac428-ece4-4c78-a2d1-986cfcc9b1ca",
   "metadata": {},
   "outputs": [],
   "source": [
    "def trapezoidal(f, a, b, n):\n",
    "    h = (b-a)/n\n",
    "    x = np.linspace(a, b, n + 1)\n",
    "    y = f(x)\n",
    "    I = (h / 2) * (y[0] + 2 * np.sum(y[1:-1]) + y[-1])\n",
    "    return I, x, y\n",
    "\n",
    "\n",
    "def simpsons_onethird(f, a, b, n):\n",
    "    #n has to be even \n",
    "    if n % 2 == 1:\n",
    "        n += 1 \n",
    "    h = (b-a)/n\n",
    "    x = np.linspace(a, b, n + 1)\n",
    "    y = f(x)\n",
    "    I = (h / 3) * (y[0] + 4 * np.sum(y[1:n:2]) + 2 * np.sum(y[2:n-1:2]) + y[-1])\n",
    "    return I, x, y\n",
    "\n",
    "\n",
    "    \n",
    "    "
   ]
  },
  {
   "cell_type": "code",
   "execution_count": 38,
   "id": "ccbc96d4-1ca4-4c2c-baff-807f8d9eeaaf",
   "metadata": {},
   "outputs": [
    {
     "name": "stdout",
     "output_type": "stream",
     "text": [
      "Trapezoidal gives: 0.26673961944924324 Simpsons gives: 0.26424709800682616\n"
     ]
    }
   ],
   "source": [
    "#Q1\n",
    "\n",
    "def f(x):\n",
    "    return ((x**2) * np.exp(x-1))\n",
    "\n",
    "a = 0 \n",
    "b = 1\n",
    "n = 10\n",
    "\n",
    "result1, x_t, y_t = trapezoidal(f, a, b, n)\n",
    "result2, x_s, y_s = simpsons_onethird(f, a, b, n)\n",
    "\n",
    "print( \"Trapezoidal gives:\",result1, \"Simpsons gives:\", result2)\n",
    "print ( "
   ]
  },
  {
   "cell_type": "code",
   "execution_count": 48,
   "id": "89846586-00e1-4a8c-93ef-5c87ad132da3",
   "metadata": {},
   "outputs": [
    {
     "name": "stdout",
     "output_type": "stream",
     "text": [
      "Trapezoidal gives: 1.9835235375094546 Simpsons gives: 2.0001095173150043\n",
      "Trapezoidal relative error: -0.008238231245272676 Simpsons relative error: 5.475865750215192e-05\n",
      "\n",
      "\n",
      "Trapezoidal gives: 1.9999817229214079 Simpsons gives: 2.0000000001336216\n",
      "Trapezoidal relative error: -9.13853929607189e-06 Simpsons relative error: 6.681077913128775e-11\n"
     ]
    }
   ],
   "source": [
    "#Q2\n",
    "\n",
    "def f(x):\n",
    "    return np.sin(x)\n",
    "\n",
    "def analytical(x):\n",
    "    return -1 * np.cos(x)\n",
    "\n",
    "answer = (analytical(b) -analytical(a))\n",
    "\n",
    "x_analytic = np.linspace(a, b, 10)\n",
    "\n",
    "a = 0\n",
    "b = np.pi\n",
    "n = 10\n",
    "\n",
    "result1, x_t, y_t = trapezoidal(f, a, b, n)\n",
    "result2, x_s, y_s = simpsons_onethird(f, a, b, n)\n",
    "\n",
    "print( \"Trapezoidal gives:\",result1, \"Simpsons gives:\", result2)\n",
    "\n",
    "#relative error \n",
    "trap_error = ( result1 - answer ) / answer\n",
    "simp_error = (result2 - answer ) / answer \n",
    "\n",
    "\n",
    "print( \"Trapezoidal relative error:\",trap_error, \"Simpsons relative error:\", simp_error)\n",
    "\n",
    "print(\"\\n\")\n",
    "\n",
    "n = 300\n",
    "\n",
    "result1, x_t, y_t = trapezoidal(f, a, b, n)\n",
    "result2, x_s, y_s = simpsons_onethird(f, a, b, n)\n",
    "\n",
    "print( \"Trapezoidal gives:\",result1, \"Simpsons gives:\", result2)\n",
    "\n",
    "#relative error \n",
    "trap_error = ( result1 - answer ) / 2\n",
    "simp_error = (result2 - answer ) / 2 \n",
    "\n",
    "\n",
    "print( \"Trapezoidal relative error:\",trap_error, \"Simpsons relative error:\", simp_error)"
   ]
  },
  {
   "cell_type": "code",
   "execution_count": 45,
   "id": "5359f741-d7df-4580-b1ba-79c31704fa37",
   "metadata": {},
   "outputs": [
    {
     "name": "stdout",
     "output_type": "stream",
     "text": [
      "The value of A is:  0.5641895835477562\n",
      "-1.1842378929335004e-17 0.49999999999999983\n"
     ]
    }
   ],
   "source": [
    "#Q3 \n",
    "\n",
    "def f(x):\n",
    "     return np.exp(-1 * x**2)\n",
    "\n",
    "\n",
    "\n",
    "a = -10\n",
    "b = 10\n",
    "n = 1000\n",
    "#normalising A , integration of f(x) from - inf to inf = 1/A\n",
    "I, x_vals, y_vals = simpsons_onethird(f, -10, 10, 1000)\n",
    "A = 1/ I\n",
    "print (\"The value of A is: \", 1/I)\n",
    "\n",
    "\n",
    "def f1(x):\n",
    "     return (A* x* np.exp(-1 * x**2))\n",
    "\n",
    "def f2(x):\n",
    "     return (A* x* x* np.exp(-1 * x**2))\n",
    "#<x>\n",
    "Moment1, x_1, y_1 = simpsons_onethird(f1, a, b, n)\n",
    "\n",
    "#<x^2> \n",
    "Moment2, x_2, x_2 = simpsons_onethird(f2, a, b, n)\n",
    "\n",
    "print( Moment1, Moment2 )"
   ]
  },
  {
   "cell_type": "code",
   "execution_count": null,
   "id": "2aeba405-279a-411f-bbac-c114b1a179da",
   "metadata": {},
   "outputs": [],
   "source": []
  }
 ],
 "metadata": {
  "kernelspec": {
   "display_name": "Python 3 (ipykernel)",
   "language": "python",
   "name": "python3"
  },
  "language_info": {
   "codemirror_mode": {
    "name": "ipython",
    "version": 3
   },
   "file_extension": ".py",
   "mimetype": "text/x-python",
   "name": "python",
   "nbconvert_exporter": "python",
   "pygments_lexer": "ipython3",
   "version": "3.11.5"
  }
 },
 "nbformat": 4,
 "nbformat_minor": 5
}
