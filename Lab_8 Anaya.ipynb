{
 "cells": [
  {
   "cell_type": "code",
   "execution_count": 14,
   "id": "4d63c1a8-a5b1-4636-9bc1-fa8c45783b25",
   "metadata": {},
   "outputs": [],
   "source": [
    "import numpy as np\n",
    "import matplotlib as plt"
   ]
  },
  {
   "cell_type": "code",
   "execution_count": 15,
   "id": "45e094ab-56ae-405c-a388-d48cdb3f73e5",
   "metadata": {},
   "outputs": [],
   "source": [
    "def trapezoidal(f, a, b, n):\n",
    "    h = (b-a)/n\n",
    "    x = np.linspace(a, b, n + 1)\n",
    "    y = f(x)\n",
    "    I = (h / 2) * (y[0] + 2 * np.sum(y[1:-1]) + y[-1])\n",
    "    return I\n",
    "\n",
    "\n",
    "def simpsons_onethird(f, a, b, n):\n",
    "    #n has to be even \n",
    "    if n % 2 == 1:\n",
    "        n += 1 \n",
    "    h = (b-a)/n\n",
    "    x = np.linspace(a, b, n + 1)\n",
    "    y = f(x)\n",
    "    I = (h / 3) * (y[0] + 4 * np.sum(y[1:n:2]) + 2 * np.sum(y[2:n-1:2]) + y[-1])\n",
    "    return I\n",
    "\n",
    "def simpsons_three_eight(f, a, b, n):\n",
    "    #n has to be i nmultiples of three \n",
    "    if n % 3 == 1:\n",
    "        n = n + 2\n",
    "    if n % 3 == 2:\n",
    "        n = n + 1\n",
    "    h = (b-a)/n\n",
    "    x = np.linspace(a, b, n + 1)\n",
    "    y = f(x)\n",
    "    coeffs = np.ones_like(y)\n",
    "    coeffs[1:-1][(np.arange(1, n) % 3 != 0)] = 3\n",
    "    coeffs[1:-1][(np.arange(1, n) % 3 == 0)] = 2\n",
    "\n",
    "    I = (3 * h / 8) * np.dot(coeffs, y)\n",
    "    return I"
   ]
  },
  {
   "cell_type": "code",
   "execution_count": 23,
   "id": "edc9d254-bf44-4ad0-9d94-fb9b707fd521",
   "metadata": {},
   "outputs": [
    {
     "name": "stdout",
     "output_type": "stream",
     "text": [
      "Trapezoidal rule result: 3.141575986923129\n",
      "Simpson's 1/3 rule result: 3.141592653589754\n",
      "Simpson's 3/8 rule result: 3.1415926535896346\n",
      "Analytical result: 3.141592653589793\n"
     ]
    }
   ],
   "source": [
    "#Q1\n",
    "\n",
    "\n",
    "def f(x):\n",
    "    return (4 / (1 + (x**2)))\n",
    "#Analytically, integration gives 4 tan inverse (x)\n",
    "def analytic(x):\n",
    "    return 4 * np.arctan(x)\n",
    "    \n",
    "a = 0 \n",
    "b = 1\n",
    "n = 100\n",
    "\n",
    "result1 = trapezoidal(f, a, b, n)\n",
    "result2 = simpsons_onethird(f, a, b, n)\n",
    "result3 = simpsons_three_eight(f, a, b, n)\n",
    "\n",
    "\n",
    "print(\"Trapezoidal rule result:\",result1)\n",
    "print(\"Simpson's 1/3 rule result:\", result2)\n",
    "print(\"Simpson's 3/8 rule result:\", result3)\n",
    "print(\"Analytical result:\",analytic(b) - analytic(a))"
   ]
  },
  {
   "cell_type": "code",
   "execution_count": 38,
   "id": "48c5a6a1-e833-4e86-bafd-b4da2a4fb6f7",
   "metadata": {},
   "outputs": [
    {
     "name": "stdout",
     "output_type": "stream",
     "text": [
      "Trapezoidal rule result: 25.60798215376945\n",
      "Simpson's 1/3 rule result: 25.6267692168799\n",
      "Simpson's 3/8 rule result: 25.747515489802268\n",
      "Analytical result: 26.0\n"
     ]
    }
   ],
   "source": [
    "#Q2\n",
    "\n",
    "def f(x):\n",
    "    return (1/ np.sqrt(np.abs(x)))\n",
    "\n",
    "#Analytically, integration gives 2x / spqrt (|x|)\n",
    "def analytic(x):\n",
    "    return (2* x / np.sqrt(np.abs(x)))\n",
    "    \n",
    "a = -9\n",
    "b = 100\n",
    "n = 1000\n",
    "\n",
    "result1 = trapezoidal(f, a, b, n)\n",
    "result2 = simpsons_onethird(f, a, b, n)\n",
    "result3 = simpsons_three_eight(f, a, b, n)\n",
    "\n",
    "print(\"Trapezoidal rule result:\",result1)\n",
    "print(\"Simpson's 1/3 rule result:\", result2)\n",
    "print(\"Simpson's 3/8 rule result:\", result3)\n",
    "print(\"Analytical result:\",analytic(b) - analytic(a))"
   ]
  },
  {
   "cell_type": "code",
   "execution_count": 34,
   "id": "e0c0807b-9cef-489e-aa82-b2358dacd19b",
   "metadata": {},
   "outputs": [],
   "source": [
    "def booles_rule(f, a, b, n):\n",
    "    h = (b-a)/n\n",
    "    x = np.linspace(a, b, n + 1)\n",
    "    y = f(x)\n",
    "    #n has to be i nmultiples of three \n",
    "    I = 0\n",
    "    # Number of groups of 4 subintervals\n",
    "    groups = n // 4\n",
    "    \n",
    "    for i in range(groups):\n",
    "        idx = 4 * i\n",
    "        # Apply Boole's coefficients to 5 points\n",
    "        segment_sum = (7 * y[idx] + 32 * y[idx + 1] + 12 * y[idx + 2] + 32 * y[idx + 3] + 7 * y[idx + 4])\n",
    "        I += segment_sum\n",
    "    \n",
    "    I *= (2 * h) / 45\n",
    "    return I"
   ]
  },
  {
   "cell_type": "code",
   "execution_count": 39,
   "id": "ff2a51e1-86bb-4455-8790-89d0b0f8d3c7",
   "metadata": {},
   "outputs": [
    {
     "name": "stdout",
     "output_type": "stream",
     "text": [
      "Trapezoidal rule result: -1.6438210774926836\n",
      "Simpson's 1/3 rule result: -1.6438135611135254\n",
      "Simpson's 3/8 rule result: -1.643813973142632\n",
      "Boole's rule result: -1.6438132946651904\n"
     ]
    }
   ],
   "source": [
    "#Q3\n",
    "\n",
    "def f(x):\n",
    "    return np.log(1 - x) / x\n",
    "    \n",
    "a = 0.0001\n",
    "b = 0.9999\n",
    "n = 10000\n",
    "\n",
    "result1 = trapezoidal(f, a, b, n)\n",
    "result2 = simpsons_onethird(f, a, b, n)\n",
    "result3 = simpsons_three_eight(f, a, b, n)\n",
    "result4 = booles_rule(f, a, b, n)\n",
    "\n",
    "print(\"Trapezoidal rule result:\",result1)\n",
    "print(\"Simpson's 1/3 rule result:\", result2)\n",
    "print(\"Simpson's 3/8 rule result:\", result3)\n",
    "print(\"Boole's rule result:\", result4)"
   ]
  },
  {
   "cell_type": "code",
   "execution_count": null,
   "id": "67cb93ee-3774-418b-9156-3f050d97cef5",
   "metadata": {},
   "outputs": [],
   "source": []
  }
 ],
 "metadata": {
  "kernelspec": {
   "display_name": "Python 3 (ipykernel)",
   "language": "python",
   "name": "python3"
  },
  "language_info": {
   "codemirror_mode": {
    "name": "ipython",
    "version": 3
   },
   "file_extension": ".py",
   "mimetype": "text/x-python",
   "name": "python",
   "nbconvert_exporter": "python",
   "pygments_lexer": "ipython3",
   "version": "3.11.5"
  }
 },
 "nbformat": 4,
 "nbformat_minor": 5
}
